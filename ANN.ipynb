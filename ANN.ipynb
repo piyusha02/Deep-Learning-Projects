{
  "nbformat": 4,
  "nbformat_minor": 5,
  "metadata": {
    "kernelspec": {
      "display_name": "Python 3",
      "language": "python",
      "name": "python3"
    },
    "language_info": {
      "codemirror_mode": {
        "name": "ipython",
        "version": 3
      },
      "file_extension": ".py",
      "mimetype": "text/x-python",
      "name": "python",
      "nbconvert_exporter": "python",
      "pygments_lexer": "ipython3",
      "version": "3.8.8"
    },
    "colab": {
      "name": "20070243015_Piyusha More_ANN_Score(0866)_Random Forest_87.ipynb",
      "provenance": []
    }
  },
  "cells": [
    {
      "cell_type": "markdown",
      "metadata": {
        "id": "eb6fe0c3"
      },
      "source": [
        "#### Random Forest- churn dataset"
      ],
      "id": "eb6fe0c3"
    },
    {
      "cell_type": "code",
      "metadata": {
        "id": "76cc0a8f"
      },
      "source": [
        "#importing libraries\n",
        "import pandas as pd\n",
        "import numpy as np\n",
        "import statistics\n",
        "import seaborn as sns\n",
        "from scipy.stats import norm\n",
        "import matplotlib.pyplot as plt\n",
        "import tensorflow as tf #open source framework that helps to train and test neural network models to make predictions"
      ],
      "id": "76cc0a8f",
      "execution_count": 1,
      "outputs": []
    },
    {
      "cell_type": "code",
      "metadata": {
        "colab": {
          "base_uri": "https://localhost:8080/"
        },
        "id": "131ebab8",
        "outputId": "2b85c466-e4e7-42f4-da5f-7fbbdc4874bc"
      },
      "source": [
        "print(np.__version__)\n",
        "print(pd.__version__)\n",
        "print(sns.__version__)"
      ],
      "id": "131ebab8",
      "execution_count": 2,
      "outputs": [
        {
          "output_type": "stream",
          "name": "stdout",
          "text": [
            "1.19.5\n",
            "1.1.5\n",
            "0.11.2\n"
          ]
        }
      ]
    },
    {
      "cell_type": "markdown",
      "metadata": {
        "id": "ec092466"
      },
      "source": [
        "#### Pre-processing"
      ],
      "id": "ec092466"
    },
    {
      "cell_type": "code",
      "metadata": {
        "colab": {
          "resources": {
            "http://localhost:8080/nbextensions/google.colab/files.js": {
              "data": "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",
              "ok": true,
              "headers": [
                [
                  "content-type",
                  "application/javascript"
                ]
              ],
              "status": 200,
              "status_text": ""
            }
          },
          "base_uri": "https://localhost:8080/",
          "height": 73
        },
        "id": "46641afa",
        "outputId": "22b55eb2-522b-4a3b-8772-6a6650184185"
      },
      "source": [
        "from google.colab import files\n",
        "uploaded = files.upload()"
      ],
      "id": "46641afa",
      "execution_count": 3,
      "outputs": [
        {
          "output_type": "display_data",
          "data": {
            "text/html": [
              "\n",
              "     <input type=\"file\" id=\"files-4be90edf-82de-4c2e-aa10-0895c05ea24c\" name=\"files[]\" multiple disabled\n",
              "        style=\"border:none\" />\n",
              "     <output id=\"result-4be90edf-82de-4c2e-aa10-0895c05ea24c\">\n",
              "      Upload widget is only available when the cell has been executed in the\n",
              "      current browser session. Please rerun this cell to enable.\n",
              "      </output>\n",
              "      <script src=\"/nbextensions/google.colab/files.js\"></script> "
            ],
            "text/plain": [
              "<IPython.core.display.HTML object>"
            ]
          },
          "metadata": {}
        },
        {
          "output_type": "stream",
          "name": "stdout",
          "text": [
            "Saving Churn_Modelling.csv to Churn_Modelling.csv\n"
          ]
        }
      ]
    },
    {
      "cell_type": "code",
      "metadata": {
        "id": "a64e4b86"
      },
      "source": [
        "dataset = pd.read_csv(\"Churn_Modelling.csv\")"
      ],
      "id": "a64e4b86",
      "execution_count": 4,
      "outputs": []
    },
    {
      "cell_type": "code",
      "metadata": {
        "id": "08b8f757",
        "outputId": "b6129aea-c1a3-4433-a14a-a8c477b5e0cf"
      },
      "source": [
        "dataset.shape"
      ],
      "id": "08b8f757",
      "execution_count": null,
      "outputs": [
        {
          "data": {
            "text/plain": [
              "(10000, 14)"
            ]
          },
          "execution_count": 4,
          "metadata": {},
          "output_type": "execute_result"
        }
      ]
    },
    {
      "cell_type": "markdown",
      "metadata": {
        "id": "615f0093"
      },
      "source": [
        "checking null values"
      ],
      "id": "615f0093"
    },
    {
      "cell_type": "code",
      "metadata": {
        "id": "744c0ce2",
        "outputId": "01990dfe-8856-4fe8-8316-e57adac89675"
      },
      "source": [
        "dataset.isnull().sum()"
      ],
      "id": "744c0ce2",
      "execution_count": null,
      "outputs": [
        {
          "data": {
            "text/plain": [
              "RowNumber          0\n",
              "CustomerId         0\n",
              "Surname            0\n",
              "CreditScore        0\n",
              "Geography          0\n",
              "Gender             0\n",
              "Age                0\n",
              "Tenure             0\n",
              "Balance            0\n",
              "NumOfProducts      0\n",
              "HasCrCard          0\n",
              "IsActiveMember     0\n",
              "EstimatedSalary    0\n",
              "Exited             0\n",
              "dtype: int64"
            ]
          },
          "execution_count": 5,
          "metadata": {},
          "output_type": "execute_result"
        }
      ]
    },
    {
      "cell_type": "code",
      "metadata": {
        "id": "06817a94",
        "outputId": "68c5ae73-269a-4834-b025-786bbab82e81"
      },
      "source": [
        "dataset.head()"
      ],
      "id": "06817a94",
      "execution_count": null,
      "outputs": [
        {
          "data": {
            "text/html": [
              "<div>\n",
              "<style scoped>\n",
              "    .dataframe tbody tr th:only-of-type {\n",
              "        vertical-align: middle;\n",
              "    }\n",
              "\n",
              "    .dataframe tbody tr th {\n",
              "        vertical-align: top;\n",
              "    }\n",
              "\n",
              "    .dataframe thead th {\n",
              "        text-align: right;\n",
              "    }\n",
              "</style>\n",
              "<table border=\"1\" class=\"dataframe\">\n",
              "  <thead>\n",
              "    <tr style=\"text-align: right;\">\n",
              "      <th></th>\n",
              "      <th>RowNumber</th>\n",
              "      <th>CustomerId</th>\n",
              "      <th>Surname</th>\n",
              "      <th>CreditScore</th>\n",
              "      <th>Geography</th>\n",
              "      <th>Gender</th>\n",
              "      <th>Age</th>\n",
              "      <th>Tenure</th>\n",
              "      <th>Balance</th>\n",
              "      <th>NumOfProducts</th>\n",
              "      <th>HasCrCard</th>\n",
              "      <th>IsActiveMember</th>\n",
              "      <th>EstimatedSalary</th>\n",
              "      <th>Exited</th>\n",
              "    </tr>\n",
              "  </thead>\n",
              "  <tbody>\n",
              "    <tr>\n",
              "      <th>0</th>\n",
              "      <td>1</td>\n",
              "      <td>15634602</td>\n",
              "      <td>Hargrave</td>\n",
              "      <td>619</td>\n",
              "      <td>France</td>\n",
              "      <td>Female</td>\n",
              "      <td>42</td>\n",
              "      <td>2</td>\n",
              "      <td>0.00</td>\n",
              "      <td>1</td>\n",
              "      <td>1</td>\n",
              "      <td>1</td>\n",
              "      <td>101348.88</td>\n",
              "      <td>1</td>\n",
              "    </tr>\n",
              "    <tr>\n",
              "      <th>1</th>\n",
              "      <td>2</td>\n",
              "      <td>15647311</td>\n",
              "      <td>Hill</td>\n",
              "      <td>608</td>\n",
              "      <td>Spain</td>\n",
              "      <td>Female</td>\n",
              "      <td>41</td>\n",
              "      <td>1</td>\n",
              "      <td>83807.86</td>\n",
              "      <td>1</td>\n",
              "      <td>0</td>\n",
              "      <td>1</td>\n",
              "      <td>112542.58</td>\n",
              "      <td>0</td>\n",
              "    </tr>\n",
              "    <tr>\n",
              "      <th>2</th>\n",
              "      <td>3</td>\n",
              "      <td>15619304</td>\n",
              "      <td>Onio</td>\n",
              "      <td>502</td>\n",
              "      <td>France</td>\n",
              "      <td>Female</td>\n",
              "      <td>42</td>\n",
              "      <td>8</td>\n",
              "      <td>159660.80</td>\n",
              "      <td>3</td>\n",
              "      <td>1</td>\n",
              "      <td>0</td>\n",
              "      <td>113931.57</td>\n",
              "      <td>1</td>\n",
              "    </tr>\n",
              "    <tr>\n",
              "      <th>3</th>\n",
              "      <td>4</td>\n",
              "      <td>15701354</td>\n",
              "      <td>Boni</td>\n",
              "      <td>699</td>\n",
              "      <td>France</td>\n",
              "      <td>Female</td>\n",
              "      <td>39</td>\n",
              "      <td>1</td>\n",
              "      <td>0.00</td>\n",
              "      <td>2</td>\n",
              "      <td>0</td>\n",
              "      <td>0</td>\n",
              "      <td>93826.63</td>\n",
              "      <td>0</td>\n",
              "    </tr>\n",
              "    <tr>\n",
              "      <th>4</th>\n",
              "      <td>5</td>\n",
              "      <td>15737888</td>\n",
              "      <td>Mitchell</td>\n",
              "      <td>850</td>\n",
              "      <td>Spain</td>\n",
              "      <td>Female</td>\n",
              "      <td>43</td>\n",
              "      <td>2</td>\n",
              "      <td>125510.82</td>\n",
              "      <td>1</td>\n",
              "      <td>1</td>\n",
              "      <td>1</td>\n",
              "      <td>79084.10</td>\n",
              "      <td>0</td>\n",
              "    </tr>\n",
              "  </tbody>\n",
              "</table>\n",
              "</div>"
            ],
            "text/plain": [
              "   RowNumber  CustomerId   Surname  CreditScore Geography  Gender  Age  \\\n",
              "0          1    15634602  Hargrave          619    France  Female   42   \n",
              "1          2    15647311      Hill          608     Spain  Female   41   \n",
              "2          3    15619304      Onio          502    France  Female   42   \n",
              "3          4    15701354      Boni          699    France  Female   39   \n",
              "4          5    15737888  Mitchell          850     Spain  Female   43   \n",
              "\n",
              "   Tenure    Balance  NumOfProducts  HasCrCard  IsActiveMember  \\\n",
              "0       2       0.00              1          1               1   \n",
              "1       1   83807.86              1          0               1   \n",
              "2       8  159660.80              3          1               0   \n",
              "3       1       0.00              2          0               0   \n",
              "4       2  125510.82              1          1               1   \n",
              "\n",
              "   EstimatedSalary  Exited  \n",
              "0        101348.88       1  \n",
              "1        112542.58       0  \n",
              "2        113931.57       1  \n",
              "3         93826.63       0  \n",
              "4         79084.10       0  "
            ]
          },
          "execution_count": 6,
          "metadata": {},
          "output_type": "execute_result"
        }
      ]
    },
    {
      "cell_type": "code",
      "metadata": {
        "id": "0a034d8d",
        "outputId": "76b7a06e-f16b-4428-afe3-477b002ab431"
      },
      "source": [
        "dataset.tail()"
      ],
      "id": "0a034d8d",
      "execution_count": null,
      "outputs": [
        {
          "data": {
            "text/html": [
              "<div>\n",
              "<style scoped>\n",
              "    .dataframe tbody tr th:only-of-type {\n",
              "        vertical-align: middle;\n",
              "    }\n",
              "\n",
              "    .dataframe tbody tr th {\n",
              "        vertical-align: top;\n",
              "    }\n",
              "\n",
              "    .dataframe thead th {\n",
              "        text-align: right;\n",
              "    }\n",
              "</style>\n",
              "<table border=\"1\" class=\"dataframe\">\n",
              "  <thead>\n",
              "    <tr style=\"text-align: right;\">\n",
              "      <th></th>\n",
              "      <th>RowNumber</th>\n",
              "      <th>CustomerId</th>\n",
              "      <th>Surname</th>\n",
              "      <th>CreditScore</th>\n",
              "      <th>Geography</th>\n",
              "      <th>Gender</th>\n",
              "      <th>Age</th>\n",
              "      <th>Tenure</th>\n",
              "      <th>Balance</th>\n",
              "      <th>NumOfProducts</th>\n",
              "      <th>HasCrCard</th>\n",
              "      <th>IsActiveMember</th>\n",
              "      <th>EstimatedSalary</th>\n",
              "      <th>Exited</th>\n",
              "    </tr>\n",
              "  </thead>\n",
              "  <tbody>\n",
              "    <tr>\n",
              "      <th>9995</th>\n",
              "      <td>9996</td>\n",
              "      <td>15606229</td>\n",
              "      <td>Obijiaku</td>\n",
              "      <td>771</td>\n",
              "      <td>France</td>\n",
              "      <td>Male</td>\n",
              "      <td>39</td>\n",
              "      <td>5</td>\n",
              "      <td>0.00</td>\n",
              "      <td>2</td>\n",
              "      <td>1</td>\n",
              "      <td>0</td>\n",
              "      <td>96270.64</td>\n",
              "      <td>0</td>\n",
              "    </tr>\n",
              "    <tr>\n",
              "      <th>9996</th>\n",
              "      <td>9997</td>\n",
              "      <td>15569892</td>\n",
              "      <td>Johnstone</td>\n",
              "      <td>516</td>\n",
              "      <td>France</td>\n",
              "      <td>Male</td>\n",
              "      <td>35</td>\n",
              "      <td>10</td>\n",
              "      <td>57369.61</td>\n",
              "      <td>1</td>\n",
              "      <td>1</td>\n",
              "      <td>1</td>\n",
              "      <td>101699.77</td>\n",
              "      <td>0</td>\n",
              "    </tr>\n",
              "    <tr>\n",
              "      <th>9997</th>\n",
              "      <td>9998</td>\n",
              "      <td>15584532</td>\n",
              "      <td>Liu</td>\n",
              "      <td>709</td>\n",
              "      <td>France</td>\n",
              "      <td>Female</td>\n",
              "      <td>36</td>\n",
              "      <td>7</td>\n",
              "      <td>0.00</td>\n",
              "      <td>1</td>\n",
              "      <td>0</td>\n",
              "      <td>1</td>\n",
              "      <td>42085.58</td>\n",
              "      <td>1</td>\n",
              "    </tr>\n",
              "    <tr>\n",
              "      <th>9998</th>\n",
              "      <td>9999</td>\n",
              "      <td>15682355</td>\n",
              "      <td>Sabbatini</td>\n",
              "      <td>772</td>\n",
              "      <td>Germany</td>\n",
              "      <td>Male</td>\n",
              "      <td>42</td>\n",
              "      <td>3</td>\n",
              "      <td>75075.31</td>\n",
              "      <td>2</td>\n",
              "      <td>1</td>\n",
              "      <td>0</td>\n",
              "      <td>92888.52</td>\n",
              "      <td>1</td>\n",
              "    </tr>\n",
              "    <tr>\n",
              "      <th>9999</th>\n",
              "      <td>10000</td>\n",
              "      <td>15628319</td>\n",
              "      <td>Walker</td>\n",
              "      <td>792</td>\n",
              "      <td>France</td>\n",
              "      <td>Female</td>\n",
              "      <td>28</td>\n",
              "      <td>4</td>\n",
              "      <td>130142.79</td>\n",
              "      <td>1</td>\n",
              "      <td>1</td>\n",
              "      <td>0</td>\n",
              "      <td>38190.78</td>\n",
              "      <td>0</td>\n",
              "    </tr>\n",
              "  </tbody>\n",
              "</table>\n",
              "</div>"
            ],
            "text/plain": [
              "      RowNumber  CustomerId    Surname  CreditScore Geography  Gender  Age  \\\n",
              "9995       9996    15606229   Obijiaku          771    France    Male   39   \n",
              "9996       9997    15569892  Johnstone          516    France    Male   35   \n",
              "9997       9998    15584532        Liu          709    France  Female   36   \n",
              "9998       9999    15682355  Sabbatini          772   Germany    Male   42   \n",
              "9999      10000    15628319     Walker          792    France  Female   28   \n",
              "\n",
              "      Tenure    Balance  NumOfProducts  HasCrCard  IsActiveMember  \\\n",
              "9995       5       0.00              2          1               0   \n",
              "9996      10   57369.61              1          1               1   \n",
              "9997       7       0.00              1          0               1   \n",
              "9998       3   75075.31              2          1               0   \n",
              "9999       4  130142.79              1          1               0   \n",
              "\n",
              "      EstimatedSalary  Exited  \n",
              "9995         96270.64       0  \n",
              "9996        101699.77       0  \n",
              "9997         42085.58       1  \n",
              "9998         92888.52       1  \n",
              "9999         38190.78       0  "
            ]
          },
          "execution_count": 7,
          "metadata": {},
          "output_type": "execute_result"
        }
      ]
    },
    {
      "cell_type": "code",
      "metadata": {
        "id": "c45d67d9",
        "outputId": "ca0d1dff-dbb5-4acc-d94d-448da6a0d0ef"
      },
      "source": [
        "dataset.info()"
      ],
      "id": "c45d67d9",
      "execution_count": null,
      "outputs": [
        {
          "name": "stdout",
          "output_type": "stream",
          "text": [
            "<class 'pandas.core.frame.DataFrame'>\n",
            "RangeIndex: 10000 entries, 0 to 9999\n",
            "Data columns (total 14 columns):\n",
            " #   Column           Non-Null Count  Dtype  \n",
            "---  ------           --------------  -----  \n",
            " 0   RowNumber        10000 non-null  int64  \n",
            " 1   CustomerId       10000 non-null  int64  \n",
            " 2   Surname          10000 non-null  object \n",
            " 3   CreditScore      10000 non-null  int64  \n",
            " 4   Geography        10000 non-null  object \n",
            " 5   Gender           10000 non-null  object \n",
            " 6   Age              10000 non-null  int64  \n",
            " 7   Tenure           10000 non-null  int64  \n",
            " 8   Balance          10000 non-null  float64\n",
            " 9   NumOfProducts    10000 non-null  int64  \n",
            " 10  HasCrCard        10000 non-null  int64  \n",
            " 11  IsActiveMember   10000 non-null  int64  \n",
            " 12  EstimatedSalary  10000 non-null  float64\n",
            " 13  Exited           10000 non-null  int64  \n",
            "dtypes: float64(2), int64(9), object(3)\n",
            "memory usage: 976.6+ KB\n"
          ]
        }
      ]
    },
    {
      "cell_type": "code",
      "metadata": {
        "id": "1788a028",
        "outputId": "c658fdfd-5221-4402-c57e-e7f87986f4f9"
      },
      "source": [
        "dataset.Exited.value_counts()"
      ],
      "id": "1788a028",
      "execution_count": null,
      "outputs": [
        {
          "data": {
            "text/plain": [
              "0    7963\n",
              "1    2037\n",
              "Name: Exited, dtype: int64"
            ]
          },
          "execution_count": 10,
          "metadata": {},
          "output_type": "execute_result"
        }
      ]
    },
    {
      "cell_type": "code",
      "metadata": {
        "id": "5c6a563a",
        "outputId": "6812c472-6891-442b-d9fd-584050854834"
      },
      "source": [
        "dataset.NumOfProducts.value_counts()"
      ],
      "id": "5c6a563a",
      "execution_count": null,
      "outputs": [
        {
          "data": {
            "text/plain": [
              "1    5084\n",
              "2    4590\n",
              "3     266\n",
              "4      60\n",
              "Name: NumOfProducts, dtype: int64"
            ]
          },
          "execution_count": 48,
          "metadata": {},
          "output_type": "execute_result"
        }
      ]
    },
    {
      "cell_type": "code",
      "metadata": {
        "id": "2a83af4f",
        "outputId": "8c322b16-7bdd-48a8-97fa-14763b9265d6"
      },
      "source": [
        "dataset.Tenure.value_counts()"
      ],
      "id": "2a83af4f",
      "execution_count": null,
      "outputs": [
        {
          "data": {
            "text/plain": [
              "2     1048\n",
              "1     1035\n",
              "7     1028\n",
              "8     1025\n",
              "5     1012\n",
              "3     1009\n",
              "4      989\n",
              "9      984\n",
              "6      967\n",
              "10     490\n",
              "0      413\n",
              "Name: Tenure, dtype: int64"
            ]
          },
          "execution_count": 16,
          "metadata": {},
          "output_type": "execute_result"
        }
      ]
    },
    {
      "cell_type": "code",
      "metadata": {
        "id": "5c0ba735",
        "outputId": "57556c4a-c467-4575-c601-c178c822fae2"
      },
      "source": [
        "dataset.describe()"
      ],
      "id": "5c0ba735",
      "execution_count": null,
      "outputs": [
        {
          "data": {
            "text/html": [
              "<div>\n",
              "<style scoped>\n",
              "    .dataframe tbody tr th:only-of-type {\n",
              "        vertical-align: middle;\n",
              "    }\n",
              "\n",
              "    .dataframe tbody tr th {\n",
              "        vertical-align: top;\n",
              "    }\n",
              "\n",
              "    .dataframe thead th {\n",
              "        text-align: right;\n",
              "    }\n",
              "</style>\n",
              "<table border=\"1\" class=\"dataframe\">\n",
              "  <thead>\n",
              "    <tr style=\"text-align: right;\">\n",
              "      <th></th>\n",
              "      <th>RowNumber</th>\n",
              "      <th>CustomerId</th>\n",
              "      <th>CreditScore</th>\n",
              "      <th>Age</th>\n",
              "      <th>Tenure</th>\n",
              "      <th>Balance</th>\n",
              "      <th>NumOfProducts</th>\n",
              "      <th>HasCrCard</th>\n",
              "      <th>IsActiveMember</th>\n",
              "      <th>EstimatedSalary</th>\n",
              "      <th>Exited</th>\n",
              "    </tr>\n",
              "  </thead>\n",
              "  <tbody>\n",
              "    <tr>\n",
              "      <th>count</th>\n",
              "      <td>10000.00000</td>\n",
              "      <td>1.000000e+04</td>\n",
              "      <td>10000.000000</td>\n",
              "      <td>10000.000000</td>\n",
              "      <td>10000.000000</td>\n",
              "      <td>10000.000000</td>\n",
              "      <td>10000.000000</td>\n",
              "      <td>10000.00000</td>\n",
              "      <td>10000.000000</td>\n",
              "      <td>10000.000000</td>\n",
              "      <td>10000.000000</td>\n",
              "    </tr>\n",
              "    <tr>\n",
              "      <th>mean</th>\n",
              "      <td>5000.50000</td>\n",
              "      <td>1.569094e+07</td>\n",
              "      <td>650.528800</td>\n",
              "      <td>38.921800</td>\n",
              "      <td>5.012800</td>\n",
              "      <td>76485.889288</td>\n",
              "      <td>1.530200</td>\n",
              "      <td>0.70550</td>\n",
              "      <td>0.515100</td>\n",
              "      <td>100090.239881</td>\n",
              "      <td>0.203700</td>\n",
              "    </tr>\n",
              "    <tr>\n",
              "      <th>std</th>\n",
              "      <td>2886.89568</td>\n",
              "      <td>7.193619e+04</td>\n",
              "      <td>96.653299</td>\n",
              "      <td>10.487806</td>\n",
              "      <td>2.892174</td>\n",
              "      <td>62397.405202</td>\n",
              "      <td>0.581654</td>\n",
              "      <td>0.45584</td>\n",
              "      <td>0.499797</td>\n",
              "      <td>57510.492818</td>\n",
              "      <td>0.402769</td>\n",
              "    </tr>\n",
              "    <tr>\n",
              "      <th>min</th>\n",
              "      <td>1.00000</td>\n",
              "      <td>1.556570e+07</td>\n",
              "      <td>350.000000</td>\n",
              "      <td>18.000000</td>\n",
              "      <td>0.000000</td>\n",
              "      <td>0.000000</td>\n",
              "      <td>1.000000</td>\n",
              "      <td>0.00000</td>\n",
              "      <td>0.000000</td>\n",
              "      <td>11.580000</td>\n",
              "      <td>0.000000</td>\n",
              "    </tr>\n",
              "    <tr>\n",
              "      <th>25%</th>\n",
              "      <td>2500.75000</td>\n",
              "      <td>1.562853e+07</td>\n",
              "      <td>584.000000</td>\n",
              "      <td>32.000000</td>\n",
              "      <td>3.000000</td>\n",
              "      <td>0.000000</td>\n",
              "      <td>1.000000</td>\n",
              "      <td>0.00000</td>\n",
              "      <td>0.000000</td>\n",
              "      <td>51002.110000</td>\n",
              "      <td>0.000000</td>\n",
              "    </tr>\n",
              "    <tr>\n",
              "      <th>50%</th>\n",
              "      <td>5000.50000</td>\n",
              "      <td>1.569074e+07</td>\n",
              "      <td>652.000000</td>\n",
              "      <td>37.000000</td>\n",
              "      <td>5.000000</td>\n",
              "      <td>97198.540000</td>\n",
              "      <td>1.000000</td>\n",
              "      <td>1.00000</td>\n",
              "      <td>1.000000</td>\n",
              "      <td>100193.915000</td>\n",
              "      <td>0.000000</td>\n",
              "    </tr>\n",
              "    <tr>\n",
              "      <th>75%</th>\n",
              "      <td>7500.25000</td>\n",
              "      <td>1.575323e+07</td>\n",
              "      <td>718.000000</td>\n",
              "      <td>44.000000</td>\n",
              "      <td>7.000000</td>\n",
              "      <td>127644.240000</td>\n",
              "      <td>2.000000</td>\n",
              "      <td>1.00000</td>\n",
              "      <td>1.000000</td>\n",
              "      <td>149388.247500</td>\n",
              "      <td>0.000000</td>\n",
              "    </tr>\n",
              "    <tr>\n",
              "      <th>max</th>\n",
              "      <td>10000.00000</td>\n",
              "      <td>1.581569e+07</td>\n",
              "      <td>850.000000</td>\n",
              "      <td>92.000000</td>\n",
              "      <td>10.000000</td>\n",
              "      <td>250898.090000</td>\n",
              "      <td>4.000000</td>\n",
              "      <td>1.00000</td>\n",
              "      <td>1.000000</td>\n",
              "      <td>199992.480000</td>\n",
              "      <td>1.000000</td>\n",
              "    </tr>\n",
              "  </tbody>\n",
              "</table>\n",
              "</div>"
            ],
            "text/plain": [
              "         RowNumber    CustomerId   CreditScore           Age        Tenure  \\\n",
              "count  10000.00000  1.000000e+04  10000.000000  10000.000000  10000.000000   \n",
              "mean    5000.50000  1.569094e+07    650.528800     38.921800      5.012800   \n",
              "std     2886.89568  7.193619e+04     96.653299     10.487806      2.892174   \n",
              "min        1.00000  1.556570e+07    350.000000     18.000000      0.000000   \n",
              "25%     2500.75000  1.562853e+07    584.000000     32.000000      3.000000   \n",
              "50%     5000.50000  1.569074e+07    652.000000     37.000000      5.000000   \n",
              "75%     7500.25000  1.575323e+07    718.000000     44.000000      7.000000   \n",
              "max    10000.00000  1.581569e+07    850.000000     92.000000     10.000000   \n",
              "\n",
              "             Balance  NumOfProducts    HasCrCard  IsActiveMember  \\\n",
              "count   10000.000000   10000.000000  10000.00000    10000.000000   \n",
              "mean    76485.889288       1.530200      0.70550        0.515100   \n",
              "std     62397.405202       0.581654      0.45584        0.499797   \n",
              "min         0.000000       1.000000      0.00000        0.000000   \n",
              "25%         0.000000       1.000000      0.00000        0.000000   \n",
              "50%     97198.540000       1.000000      1.00000        1.000000   \n",
              "75%    127644.240000       2.000000      1.00000        1.000000   \n",
              "max    250898.090000       4.000000      1.00000        1.000000   \n",
              "\n",
              "       EstimatedSalary        Exited  \n",
              "count     10000.000000  10000.000000  \n",
              "mean     100090.239881      0.203700  \n",
              "std       57510.492818      0.402769  \n",
              "min          11.580000      0.000000  \n",
              "25%       51002.110000      0.000000  \n",
              "50%      100193.915000      0.000000  \n",
              "75%      149388.247500      0.000000  \n",
              "max      199992.480000      1.000000  "
            ]
          },
          "execution_count": 25,
          "metadata": {},
          "output_type": "execute_result"
        }
      ]
    },
    {
      "cell_type": "markdown",
      "metadata": {
        "id": "312cafb0"
      },
      "source": [
        "# Visualization of data"
      ],
      "id": "312cafb0"
    },
    {
      "cell_type": "code",
      "metadata": {
        "id": "3a6bcff2",
        "outputId": "deb83405-1142-442b-e0a9-c86f1684e7da"
      },
      "source": [
        "plt.figure(figsize = (10,6))\n",
        "v = dataset['Geography'].value_counts()\n",
        "label = ['France', 'Germany', 'Spain']\n",
        "plt.pie(v, labels = label, autopct = '%0.02f', radius = 1,shadow= True, startangle = 90)\n",
        "plt.title('Distribution of of customers according to geographies')\n",
        "plt.show()"
      ],
      "id": "3a6bcff2",
      "execution_count": null,
      "outputs": [
        {
          "data": {
            "image/png": "[encoded data removed]",
            "text/plain": [
              "<Figure size 720x432 with 1 Axes>"
            ]
          },
          "metadata": {},
          "output_type": "display_data"
        }
      ]
    },
    {
      "cell_type": "code",
      "metadata": {
        "id": "ba7c2d4c",
        "outputId": "85215fc6-4b64-4609-9ffa-1a2eee8f8661"
      },
      "source": [
        "plt.figure(figsize = (10,6))\n",
        "v = dataset['Tenure'].value_counts()\n",
        "label = [2,1,7,8,5,3,4,9,6,10,0]\n",
        "plt.pie(v, labels = label, autopct = '%0.02f', radius = 1,shadow= True, startangle = 90)\n",
        "plt.title('Tenure:-')\n",
        "plt.show()"
      ],
      "id": "ba7c2d4c",
      "execution_count": null,
      "outputs": [
        {
          "data": {
            "image/png": "[encoded data removed]",
            "text/plain": [
              "<Figure size 720x432 with 1 Axes>"
            ]
          },
          "metadata": {},
          "output_type": "display_data"
        }
      ]
    },
    {
      "cell_type": "code",
      "metadata": {
        "id": "e7eeb73d",
        "outputId": "2f392186-b16b-43da-9af2-c84e29618265"
      },
      "source": [
        "dataset.NumOfProducts.value_counts()"
      ],
      "id": "e7eeb73d",
      "execution_count": null,
      "outputs": [
        {
          "data": {
            "text/plain": [
              "1    5084\n",
              "2    4590\n",
              "3     266\n",
              "4      60\n",
              "Name: NumOfProducts, dtype: int64"
            ]
          },
          "execution_count": 21,
          "metadata": {},
          "output_type": "execute_result"
        }
      ]
    },
    {
      "cell_type": "code",
      "metadata": {
        "id": "707dc209",
        "outputId": "6aa306e9-5fe0-40c9-bd25-e56aee39790e"
      },
      "source": [
        "Accounts = ['One', 'Two', 'Three', 'Four']\n",
        "NumberOfAccounts = [5084, 4590, 266, 60]\n",
        "fig = plt.figure()\n",
        "ax = fig.add_axes([0,0,1,1])\n",
        "ax.bar(Accounts,NumberOfAccounts, color = 'purple')\n",
        "plt.title('Distribution of Accounts')\n",
        "plt.show()"
      ],
      "id": "707dc209",
      "execution_count": null,
      "outputs": [
        {
          "data": {
            "image/png": "[encoded data removed]",
            "text/plain": [
              "<Figure size 432x288 with 1 Axes>"
            ]
          },
          "metadata": {
            "needs_background": "light"
          },
          "output_type": "display_data"
        }
      ]
    },
    {
      "cell_type": "code",
      "metadata": {
        "id": "9a6f6f78",
        "outputId": "3b26c636-e6de-4bc9-e425-a0d697c2b932"
      },
      "source": [
        "plt.figure(figsize = (10,6))\n",
        "v = dataset['HasCrCard'].value_counts()\n",
        "label = ['Yes', 'No']\n",
        "plt.pie(v, labels = label, autopct = '%0.02f', radius = 1,shadow= True, startangle = 90)\n",
        "plt.title('Customers having credit card:-')\n",
        "plt.show()"
      ],
      "id": "9a6f6f78",
      "execution_count": null,
      "outputs": [
        {
          "data": {
            "image/png": "[encoded data removed]",
            "text/plain": [
              "<Figure size 720x432 with 1 Axes>"
            ]
          },
          "metadata": {},
          "output_type": "display_data"
        }
      ]
    },
    {
      "cell_type": "code",
      "metadata": {
        "id": "a88167a6",
        "outputId": "0abe9863-a2e9-4e85-9982-0f3de04d1b02"
      },
      "source": [
        "plt.figure(figsize = (10,6))\n",
        "v = dataset['Exited'].value_counts()\n",
        "label = ['Not Exited','Exited']\n",
        "plt.pie(v,labels = label, autopct = '%0.02f', radius = 1, shadow=True, startangle = 90)\n",
        "plt.title('Customers were exiting or not')\n",
        "plt.show()"
      ],
      "id": "a88167a6",
      "execution_count": null,
      "outputs": [
        {
          "data": {
            "image/png": "[encoded data removed]",
            "text/plain": [
              "<Figure size 720x432 with 1 Axes>"
            ]
          },
          "metadata": {},
          "output_type": "display_data"
        }
      ]
    },
    {
      "cell_type": "code",
      "metadata": {
        "id": "35f7287c",
        "outputId": "55a85b9e-4923-4722-a5e6-666a9e244d83"
      },
      "source": [
        "plt.figure(figsize = (10,6))\n",
        "sns.distplot(dataset['Age'], color='r')"
      ],
      "id": "35f7287c",
      "execution_count": null,
      "outputs": [
        {
          "name": "stderr",
          "output_type": "stream",
          "text": [
            "C:\\ProgramData\\Anaconda3\\lib\\site-packages\\seaborn\\distributions.py:2557: FutureWarning: `distplot` is a deprecated function and will be removed in a future version. Please adapt your code to use either `displot` (a figure-level function with similar flexibility) or `histplot` (an axes-level function for histograms).\n",
            "  warnings.warn(msg, FutureWarning)\n"
          ]
        },
        {
          "data": {
            "text/plain": [
              "<AxesSubplot:xlabel='Age', ylabel='Density'>"
            ]
          },
          "execution_count": 60,
          "metadata": {},
          "output_type": "execute_result"
        },
        {
          "data": {
            "image/png": "[encoded data removed]",
            "text/plain": [
              "<Figure size 720x432 with 1 Axes>"
            ]
          },
          "metadata": {
            "needs_background": "light"
          },
          "output_type": "display_data"
        }
      ]
    },
    {
      "cell_type": "markdown",
      "metadata": {
        "id": "09d44069"
      },
      "source": [
        "    Geography Vs Age"
      ],
      "id": "09d44069"
    },
    {
      "cell_type": "code",
      "metadata": {
        "id": "511015f4",
        "outputId": "3e210d21-0bb0-4526-f0be-3504012f1445"
      },
      "source": [
        "plt.figure(figsize= (10,6))\n",
        "sns.countplot(x ='Gender' ,data = dataset, hue='Geography')\n",
        "plt.title('Gender count with respect to geographies')\n",
        "plt.show()"
      ],
      "id": "511015f4",
      "execution_count": null,
      "outputs": [
        {
          "data": {
            "image/png": "[encoded data removed]",
            "text/plain": [
              "<Figure size 720x432 with 1 Axes>"
            ]
          },
          "metadata": {
            "needs_background": "light"
          },
          "output_type": "display_data"
        }
      ]
    },
    {
      "cell_type": "code",
      "metadata": {
        "id": "eb95ebfe",
        "outputId": "6b90852d-51a1-4912-a5c9-2871959e397a"
      },
      "source": [
        "plt.figure(figsize =(10,6))\n",
        "sns.countplot(data = dataset, x = 'Geography', hue='Exited')\n",
        "plt.title('customers')\n",
        "plt.show()"
      ],
      "id": "eb95ebfe",
      "execution_count": null,
      "outputs": [
        {
          "data": {
            "image/png": "[encoded data removed]",
            "text/plain": [
              "<Figure size 720x432 with 1 Axes>"
            ]
          },
          "metadata": {
            "needs_background": "light"
          },
          "output_type": "display_data"
        }
      ]
    },
    {
      "cell_type": "code",
      "metadata": {
        "id": "f1a2ef53",
        "outputId": "cac83ba1-ea49-4a11-ac19-1885efcacedc"
      },
      "source": [
        "plt.figure(figsize =(10,6))\n",
        "sns.countplot(data = dataset, x = 'Gender', hue='Exited')\n",
        "plt.title('Account Exited or not with respect to Gender')\n",
        "plt.show()"
      ],
      "id": "f1a2ef53",
      "execution_count": null,
      "outputs": [
        {
          "data": {
            "image/png": "[encoded data removed]",
            "text/plain": [
              "<Figure size 720x432 with 1 Axes>"
            ]
          },
          "metadata": {
            "needs_background": "light"
          },
          "output_type": "display_data"
        }
      ]
    },
    {
      "cell_type": "markdown",
      "metadata": {
        "id": "603d6cfa"
      },
      "source": [
        "from above graph we can understand that number of males and females are staying with the bank"
      ],
      "id": "603d6cfa"
    },
    {
      "cell_type": "code",
      "metadata": {
        "id": "d8d35ee4",
        "outputId": "d10fb767-ec32-4007-ef6f-2fe27ef82238"
      },
      "source": [
        "plt.figure(figsize =(10,6))\n",
        "sns.countplot(data = dataset, x = 'Gender', hue='IsActiveMember')\n",
        "plt.title('Overall active members')\n",
        "plt.show()"
      ],
      "id": "d8d35ee4",
      "execution_count": null,
      "outputs": [
        {
          "data": {
            "image/png": "[encoded data removed]",
            "text/plain": [
              "<Figure size 720x432 with 1 Axes>"
            ]
          },
          "metadata": {
            "needs_background": "light"
          },
          "output_type": "display_data"
        }
      ]
    },
    {
      "cell_type": "code",
      "metadata": {
        "id": "5214cefc",
        "outputId": "b703bd56-96d2-4955-a132-f7fd503c535b"
      },
      "source": [
        "plt.figure(figsize =(10,6))\n",
        "sns.countplot(data = dataset, x = 'Geography', hue='IsActiveMember')\n",
        "plt.title('Active members with respect to geography')\n",
        "plt.show()"
      ],
      "id": "5214cefc",
      "execution_count": null,
      "outputs": [
        {
          "data": {
            "image/png": "[encoded data removed]",
            "text/plain": [
              "<Figure size 720x432 with 1 Axes>"
            ]
          },
          "metadata": {
            "needs_background": "light"
          },
          "output_type": "display_data"
        }
      ]
    },
    {
      "cell_type": "code",
      "metadata": {
        "id": "26d1c08f",
        "outputId": "7fdd8e91-533f-4e8c-e3db-0265dc0da97c"
      },
      "source": [
        "plt.figure(figsize =(10,7))\n",
        "sns.countplot(data = dataset, x = 'Tenure', hue='Exited', palette = 'afmhot')\n",
        "plt.title('Customers Tenure')\n",
        "plt.show()"
      ],
      "id": "26d1c08f",
      "execution_count": null,
      "outputs": [
        {
          "data": {
            "image/png": "[encoded data removed]",
            "text/plain": [
              "<Figure size 720x504 with 1 Axes>"
            ]
          },
          "metadata": {
            "needs_background": "light"
          },
          "output_type": "display_data"
        }
      ]
    },
    {
      "cell_type": "code",
      "metadata": {
        "id": "4329cfca",
        "outputId": "6eb2f2bc-f72b-428e-c8e3-b57c4235b7da"
      },
      "source": [
        "plt.figure(figsize =(15,7))\n",
        "bal = dataset['NumOfProducts']\n",
        "age = dataset['Balance']\n",
        "plt.scatter(bal, age)\n",
        "plt.title('Coorelation between number of products and balance')\n",
        "# This will fit the best line into the graph\n",
        "plt.plot(np.unique(bal), np.poly1d(np.polyfit(bal, age, 1))\n",
        "         (np.unique(bal)), color='red')"
      ],
      "id": "4329cfca",
      "execution_count": null,
      "outputs": [
        {
          "data": {
            "text/plain": [
              "[<matplotlib.lines.Line2D at 0xc3535b0>]"
            ]
          },
          "execution_count": 9,
          "metadata": {},
          "output_type": "execute_result"
        },
        {
          "data": {
            "image/png": "[encoded data removed]",
            "text/plain": [
              "<Figure size 1080x504 with 1 Axes>"
            ]
          },
          "metadata": {
            "needs_background": "light"
          },
          "output_type": "display_data"
        }
      ]
    },
    {
      "cell_type": "markdown",
      "metadata": {
        "id": "054051a0"
      },
      "source": [
        "from above graph it can be understood that as the number of accounts increases the balance income decreases that is negatively correlated"
      ],
      "id": "054051a0"
    },
    {
      "cell_type": "code",
      "metadata": {
        "id": "78913b51",
        "outputId": "cb4f41c9-1397-4b22-977b-37f5c6606515"
      },
      "source": [
        "plt.figure(figsize =(20,7))\n",
        "sns.countplot(data = dataset, x = 'Age', hue='Exited', palette = 'Set2')\n",
        "plt.title('At what age customers needs bank and what age they leave it?')\n",
        "plt.show()"
      ],
      "id": "78913b51",
      "execution_count": null,
      "outputs": [
        {
          "data": {
            "image/png": "[encoded data removed]",
            "text/plain": [
              "<Figure size 1440x504 with 1 Axes>"
            ]
          },
          "metadata": {
            "needs_background": "light"
          },
          "output_type": "display_data"
        }
      ]
    },
    {
      "cell_type": "markdown",
      "metadata": {
        "id": "ce5b37f9"
      },
      "source": [
        "# Select features for data modeling"
      ],
      "id": "ce5b37f9"
    },
    {
      "cell_type": "code",
      "metadata": {
        "colab": {
          "base_uri": "https://localhost:8080/"
        },
        "id": "ca0e42d7",
        "outputId": "fcb10287-e97c-4549-dc44-69578e067264"
      },
      "source": [
        "X = dataset.iloc[:,3:-1].values\n",
        "y = dataset.iloc[:,-1].values\n",
        "print(X)\n",
        "print(y)"
      ],
      "id": "ca0e42d7",
      "execution_count": 6,
      "outputs": [
        {
          "output_type": "stream",
          "name": "stdout",
          "text": [
            "[[619 'France' 'Female' ... 1 1 101348.88]\n",
            " [608 'Spain' 'Female' ... 0 1 112542.58]\n",
            " [502 'France' 'Female' ... 1 0 113931.57]\n",
            " ...\n",
            " [709 'France' 'Female' ... 0 1 42085.58]\n",
            " [772 'Germany' 'Male' ... 1 0 92888.52]\n",
            " [792 'France' 'Female' ... 1 0 38190.78]]\n",
            "[1 0 1 ... 1 1 0]\n"
          ]
        }
      ]
    },
    {
      "cell_type": "markdown",
      "metadata": {
        "id": "c7b3b26b"
      },
      "source": [
        "Encoding the categorical columns:\n",
        "1. Label encoder: if you have 2 categories which may or may not be in order then you use label encoder\n",
        "2. One hot encoder: more that a number of categories you use one hot encoding which that you are a value in the row into a column"
      ],
      "id": "c7b3b26b"
    },
    {
      "cell_type": "code",
      "metadata": {
        "colab": {
          "base_uri": "https://localhost:8080/"
        },
        "id": "279b0b3f",
        "outputId": "eb30095d-9db4-4aea-bb2c-e010ea1e3399"
      },
      "source": [
        "from sklearn.preprocessing import LabelEncoder\n",
        "le = LabelEncoder()\n",
        "X[:,2] = le.fit_transform(X[:,2])\n",
        "print(\"encoding gender feature using Label Encoder:-\")\n",
        "print(X)"
      ],
      "id": "279b0b3f",
      "execution_count": 7,
      "outputs": [
        {
          "output_type": "stream",
          "name": "stdout",
          "text": [
            "encoding gender feature using Label Encoder:-\n",
            "[[619 'France' 0 ... 1 1 101348.88]\n",
            " [608 'Spain' 0 ... 0 1 112542.58]\n",
            " [502 'France' 0 ... 1 0 113931.57]\n",
            " ...\n",
            " [709 'France' 0 ... 0 1 42085.58]\n",
            " [772 'Germany' 1 ... 1 0 92888.52]\n",
            " [792 'France' 0 ... 1 0 38190.78]]\n"
          ]
        }
      ]
    },
    {
      "cell_type": "code",
      "metadata": {
        "colab": {
          "base_uri": "https://localhost:8080/"
        },
        "id": "639a86ca",
        "outputId": "40c5c791-252c-4df2-ec63-a783ab035fab"
      },
      "source": [
        "from sklearn.preprocessing import OneHotEncoder\n",
        "from sklearn.compose import ColumnTransformer\n",
        "\n",
        "ct = ColumnTransformer(transformers=[('encoder', OneHotEncoder(),[1])], remainder='passthrough')\n",
        "X = np.array(ct.fit_transform(X))\n",
        "print(\"encoding geography feature using One HotEncoder:-\")\n",
        "print(X)"
      ],
      "id": "639a86ca",
      "execution_count": 8,
      "outputs": [
        {
          "output_type": "stream",
          "name": "stdout",
          "text": [
            "encoding geography feature using One HotEncoder:-\n",
            "[[1.0 0.0 0.0 ... 1 1 101348.88]\n",
            " [0.0 0.0 1.0 ... 0 1 112542.58]\n",
            " [1.0 0.0 0.0 ... 1 0 113931.57]\n",
            " ...\n",
            " [1.0 0.0 0.0 ... 0 1 42085.58]\n",
            " [0.0 1.0 0.0 ... 1 0 92888.52]\n",
            " [1.0 0.0 0.0 ... 1 0 38190.78]]\n"
          ]
        }
      ]
    },
    {
      "cell_type": "markdown",
      "metadata": {
        "id": "ed01be5e"
      },
      "source": [
        "Train test set:- to train and validate the model"
      ],
      "id": "ed01be5e"
    },
    {
      "cell_type": "code",
      "metadata": {
        "id": "c950473f"
      },
      "source": [
        "from sklearn.model_selection import train_test_split\n",
        "X_train,X_test,y_train,y_test=train_test_split(X,y,test_size=0.25,random_state=0)"
      ],
      "id": "c950473f",
      "execution_count": 9,
      "outputs": []
    },
    {
      "cell_type": "markdown",
      "metadata": {
        "id": "a0a19645"
      },
      "source": [
        "Feature Scaling: to give accuracies in pretty good manner"
      ],
      "id": "a0a19645"
    },
    {
      "cell_type": "code",
      "metadata": {
        "id": "8cda73fd"
      },
      "source": [
        "from sklearn.preprocessing import StandardScaler\n",
        "sc = StandardScaler()\n",
        "X_train = sc.fit_transform(X_train)\n",
        "X_test = sc.fit_transform(X_test)"
      ],
      "id": "8cda73fd",
      "execution_count": 10,
      "outputs": []
    },
    {
      "cell_type": "markdown",
      "metadata": {
        "id": "I3XORf0HNwqJ"
      },
      "source": [
        "Build our first ANN model"
      ],
      "id": "I3XORf0HNwqJ"
    },
    {
      "cell_type": "code",
      "metadata": {
        "id": "f5d928ec"
      },
      "source": [
        "ann = tf.keras.models.Sequential()\n",
        "#hidden layer 1\n",
        "ann.add(tf.keras.layers.Dense(units =3, activation='relu'))\n",
        "#hidden layer 2\n",
        "ann.add(tf.keras.layers.Dense(units = 3, activation ='relu'))\n",
        "#hidden layer 3\n",
        "#ann.add(tf.keras.layers.Dense(units = 3, activation ='relu'))\n",
        "#output layer\n",
        "ann.add(tf.keras.layers.Dense(units = 1, activation ='sigmoid'))"
      ],
      "id": "f5d928ec",
      "execution_count": 11,
      "outputs": []
    },
    {
      "cell_type": "code",
      "metadata": {
        "id": "WdA1eqHWN2yR"
      },
      "source": [
        "#to get all the layers together and create a network till now the every thing is added separately but everything has to know that \n",
        "#they are part of network so it compiles all the \n",
        "ann.compile(optimizer = 'adam', loss= 'binary_crossentropy', metrics=['accuracy'])"
      ],
      "id": "WdA1eqHWN2yR",
      "execution_count": 12,
      "outputs": []
    },
    {
      "cell_type": "code",
      "metadata": {
        "colab": {
          "base_uri": "https://localhost:8080/"
        },
        "id": "Xt0LikLLN2vn",
        "outputId": "025dcb28-3241-4974-84ad-8389adbb6b19"
      },
      "source": [
        "#ann\n",
        "ann.fit(X_train, y_train, batch_size =32, epochs=100)"
      ],
      "id": "Xt0LikLLN2vn",
      "execution_count": 13,
      "outputs": [
        {
          "output_type": "stream",
          "name": "stdout",
          "text": [
            "Epoch 1/100\n",
            "235/235 [==============================] - 1s 953us/step - loss: 0.6999 - accuracy: 0.6320\n",
            "Epoch 2/100\n",
            "235/235 [==============================] - 0s 964us/step - loss: 0.5318 - accuracy: 0.7967\n",
            "Epoch 3/100\n",
            "235/235 [==============================] - 0s 1ms/step - loss: 0.4800 - accuracy: 0.7968\n",
            "Epoch 4/100\n",
            "235/235 [==============================] - 0s 1ms/step - loss: 0.4514 - accuracy: 0.8028\n",
            "Epoch 5/100\n",
            "235/235 [==============================] - 0s 1ms/step - loss: 0.4299 - accuracy: 0.8163\n",
            "Epoch 6/100\n",
            "235/235 [==============================] - 0s 1ms/step - loss: 0.4119 - accuracy: 0.8276\n",
            "Epoch 7/100\n",
            "235/235 [==============================] - 0s 1ms/step - loss: 0.3986 - accuracy: 0.8352\n",
            "Epoch 8/100\n",
            "235/235 [==============================] - 0s 969us/step - loss: 0.3881 - accuracy: 0.8380\n",
            "Epoch 9/100\n",
            "235/235 [==============================] - 0s 1ms/step - loss: 0.3800 - accuracy: 0.8420\n",
            "Epoch 10/100\n",
            "235/235 [==============================] - 0s 991us/step - loss: 0.3737 - accuracy: 0.8439\n",
            "Epoch 11/100\n",
            "235/235 [==============================] - 0s 971us/step - loss: 0.3692 - accuracy: 0.8453\n",
            "Epoch 12/100\n",
            "235/235 [==============================] - 0s 1ms/step - loss: 0.3654 - accuracy: 0.8449\n",
            "Epoch 13/100\n",
            "235/235 [==============================] - 0s 1ms/step - loss: 0.3623 - accuracy: 0.8457\n",
            "Epoch 14/100\n",
            "235/235 [==============================] - 0s 1ms/step - loss: 0.3599 - accuracy: 0.8465\n",
            "Epoch 15/100\n",
            "235/235 [==============================] - 0s 1ms/step - loss: 0.3582 - accuracy: 0.8473\n",
            "Epoch 16/100\n",
            "235/235 [==============================] - 0s 1ms/step - loss: 0.3566 - accuracy: 0.8485\n",
            "Epoch 17/100\n",
            "235/235 [==============================] - 0s 999us/step - loss: 0.3556 - accuracy: 0.8491\n",
            "Epoch 18/100\n",
            "235/235 [==============================] - 0s 953us/step - loss: 0.3546 - accuracy: 0.8492\n",
            "Epoch 19/100\n",
            "235/235 [==============================] - 0s 996us/step - loss: 0.3539 - accuracy: 0.8511\n",
            "Epoch 20/100\n",
            "235/235 [==============================] - 0s 1ms/step - loss: 0.3531 - accuracy: 0.8516\n",
            "Epoch 21/100\n",
            "235/235 [==============================] - 0s 999us/step - loss: 0.3527 - accuracy: 0.8519\n",
            "Epoch 22/100\n",
            "235/235 [==============================] - 0s 1ms/step - loss: 0.3521 - accuracy: 0.8519\n",
            "Epoch 23/100\n",
            "235/235 [==============================] - 0s 1ms/step - loss: 0.3514 - accuracy: 0.8513\n",
            "Epoch 24/100\n",
            "235/235 [==============================] - 0s 1ms/step - loss: 0.3509 - accuracy: 0.8535\n",
            "Epoch 25/100\n",
            "235/235 [==============================] - 0s 1ms/step - loss: 0.3506 - accuracy: 0.8537\n",
            "Epoch 26/100\n",
            "235/235 [==============================] - 0s 1ms/step - loss: 0.3502 - accuracy: 0.8527\n",
            "Epoch 27/100\n",
            "235/235 [==============================] - 0s 996us/step - loss: 0.3500 - accuracy: 0.8549\n",
            "Epoch 28/100\n",
            "235/235 [==============================] - 0s 994us/step - loss: 0.3495 - accuracy: 0.8545\n",
            "Epoch 29/100\n",
            "235/235 [==============================] - 0s 994us/step - loss: 0.3493 - accuracy: 0.8541\n",
            "Epoch 30/100\n",
            "235/235 [==============================] - 0s 962us/step - loss: 0.3491 - accuracy: 0.8552\n",
            "Epoch 31/100\n",
            "235/235 [==============================] - 0s 1ms/step - loss: 0.3488 - accuracy: 0.8560\n",
            "Epoch 32/100\n",
            "235/235 [==============================] - 0s 1ms/step - loss: 0.3484 - accuracy: 0.8568\n",
            "Epoch 33/100\n",
            "235/235 [==============================] - 0s 1ms/step - loss: 0.3482 - accuracy: 0.8560\n",
            "Epoch 34/100\n",
            "235/235 [==============================] - 0s 1ms/step - loss: 0.3480 - accuracy: 0.8567\n",
            "Epoch 35/100\n",
            "235/235 [==============================] - 0s 1ms/step - loss: 0.3476 - accuracy: 0.8568\n",
            "Epoch 36/100\n",
            "235/235 [==============================] - 0s 979us/step - loss: 0.3475 - accuracy: 0.8572\n",
            "Epoch 37/100\n",
            "235/235 [==============================] - 0s 987us/step - loss: 0.3472 - accuracy: 0.8575\n",
            "Epoch 38/100\n",
            "235/235 [==============================] - 0s 1ms/step - loss: 0.3468 - accuracy: 0.8580\n",
            "Epoch 39/100\n",
            "235/235 [==============================] - 0s 1ms/step - loss: 0.3468 - accuracy: 0.8565\n",
            "Epoch 40/100\n",
            "235/235 [==============================] - 0s 990us/step - loss: 0.3464 - accuracy: 0.8585\n",
            "Epoch 41/100\n",
            "235/235 [==============================] - 0s 1ms/step - loss: 0.3463 - accuracy: 0.8587\n",
            "Epoch 42/100\n",
            "235/235 [==============================] - 0s 1ms/step - loss: 0.3461 - accuracy: 0.8573\n",
            "Epoch 43/100\n",
            "235/235 [==============================] - 0s 1ms/step - loss: 0.3459 - accuracy: 0.8597\n",
            "Epoch 44/100\n",
            "235/235 [==============================] - 0s 978us/step - loss: 0.3455 - accuracy: 0.8585\n",
            "Epoch 45/100\n",
            "235/235 [==============================] - 0s 983us/step - loss: 0.3459 - accuracy: 0.8577\n",
            "Epoch 46/100\n",
            "235/235 [==============================] - 0s 973us/step - loss: 0.3455 - accuracy: 0.8593\n",
            "Epoch 47/100\n",
            "235/235 [==============================] - 0s 1ms/step - loss: 0.3452 - accuracy: 0.8611\n",
            "Epoch 48/100\n",
            "235/235 [==============================] - 0s 1ms/step - loss: 0.3450 - accuracy: 0.8604\n",
            "Epoch 49/100\n",
            "235/235 [==============================] - 0s 1ms/step - loss: 0.3451 - accuracy: 0.8595\n",
            "Epoch 50/100\n",
            "235/235 [==============================] - 0s 1ms/step - loss: 0.3447 - accuracy: 0.8596\n",
            "Epoch 51/100\n",
            "235/235 [==============================] - 0s 1ms/step - loss: 0.3449 - accuracy: 0.8595\n",
            "Epoch 52/100\n",
            "235/235 [==============================] - 0s 984us/step - loss: 0.3445 - accuracy: 0.8621\n",
            "Epoch 53/100\n",
            "235/235 [==============================] - 0s 1ms/step - loss: 0.3444 - accuracy: 0.8608\n",
            "Epoch 54/100\n",
            "235/235 [==============================] - 0s 1ms/step - loss: 0.3443 - accuracy: 0.8600\n",
            "Epoch 55/100\n",
            "235/235 [==============================] - 0s 1ms/step - loss: 0.3443 - accuracy: 0.8612\n",
            "Epoch 56/100\n",
            "235/235 [==============================] - 0s 997us/step - loss: 0.3440 - accuracy: 0.8603\n",
            "Epoch 57/100\n",
            "235/235 [==============================] - 0s 1ms/step - loss: 0.3441 - accuracy: 0.8621\n",
            "Epoch 58/100\n",
            "235/235 [==============================] - 0s 984us/step - loss: 0.3439 - accuracy: 0.8607\n",
            "Epoch 59/100\n",
            "235/235 [==============================] - 0s 976us/step - loss: 0.3439 - accuracy: 0.8607\n",
            "Epoch 60/100\n",
            "235/235 [==============================] - 0s 1ms/step - loss: 0.3441 - accuracy: 0.8608\n",
            "Epoch 61/100\n",
            "235/235 [==============================] - 0s 1ms/step - loss: 0.3437 - accuracy: 0.8605\n",
            "Epoch 62/100\n",
            "235/235 [==============================] - 0s 1ms/step - loss: 0.3435 - accuracy: 0.8609\n",
            "Epoch 63/100\n",
            "235/235 [==============================] - 0s 1ms/step - loss: 0.3433 - accuracy: 0.8612\n",
            "Epoch 64/100\n",
            "235/235 [==============================] - 0s 991us/step - loss: 0.3434 - accuracy: 0.8608\n",
            "Epoch 65/100\n",
            "235/235 [==============================] - 0s 1ms/step - loss: 0.3435 - accuracy: 0.8603\n",
            "Epoch 66/100\n",
            "235/235 [==============================] - 0s 1ms/step - loss: 0.3432 - accuracy: 0.8605\n",
            "Epoch 67/100\n",
            "235/235 [==============================] - 0s 976us/step - loss: 0.3432 - accuracy: 0.8623\n",
            "Epoch 68/100\n",
            "235/235 [==============================] - 0s 1ms/step - loss: 0.3429 - accuracy: 0.8628\n",
            "Epoch 69/100\n",
            "235/235 [==============================] - 0s 996us/step - loss: 0.3431 - accuracy: 0.8613\n",
            "Epoch 70/100\n",
            "235/235 [==============================] - 0s 980us/step - loss: 0.3428 - accuracy: 0.8607\n",
            "Epoch 71/100\n",
            "235/235 [==============================] - 0s 988us/step - loss: 0.3426 - accuracy: 0.8607\n",
            "Epoch 72/100\n",
            "235/235 [==============================] - 0s 1ms/step - loss: 0.3428 - accuracy: 0.8619\n",
            "Epoch 73/100\n",
            "235/235 [==============================] - 0s 1ms/step - loss: 0.3428 - accuracy: 0.8613\n",
            "Epoch 74/100\n",
            "235/235 [==============================] - 0s 983us/step - loss: 0.3422 - accuracy: 0.8613\n",
            "Epoch 75/100\n",
            "235/235 [==============================] - 0s 1ms/step - loss: 0.3425 - accuracy: 0.8617\n",
            "Epoch 76/100\n",
            "235/235 [==============================] - 0s 1ms/step - loss: 0.3423 - accuracy: 0.8615\n",
            "Epoch 77/100\n",
            "235/235 [==============================] - 0s 1ms/step - loss: 0.3424 - accuracy: 0.8619\n",
            "Epoch 78/100\n",
            "235/235 [==============================] - 0s 992us/step - loss: 0.3421 - accuracy: 0.8624\n",
            "Epoch 79/100\n",
            "235/235 [==============================] - 0s 994us/step - loss: 0.3422 - accuracy: 0.8616\n",
            "Epoch 80/100\n",
            "235/235 [==============================] - 0s 1ms/step - loss: 0.3423 - accuracy: 0.8620\n",
            "Epoch 81/100\n",
            "235/235 [==============================] - 0s 996us/step - loss: 0.3422 - accuracy: 0.8627\n",
            "Epoch 82/100\n",
            "235/235 [==============================] - 0s 1ms/step - loss: 0.3420 - accuracy: 0.8616\n",
            "Epoch 83/100\n",
            "235/235 [==============================] - 0s 988us/step - loss: 0.3418 - accuracy: 0.8600\n",
            "Epoch 84/100\n",
            "235/235 [==============================] - 0s 1ms/step - loss: 0.3421 - accuracy: 0.8607\n",
            "Epoch 85/100\n",
            "235/235 [==============================] - 0s 987us/step - loss: 0.3418 - accuracy: 0.8613\n",
            "Epoch 86/100\n",
            "235/235 [==============================] - 0s 1ms/step - loss: 0.3417 - accuracy: 0.8619\n",
            "Epoch 87/100\n",
            "235/235 [==============================] - 0s 1ms/step - loss: 0.3415 - accuracy: 0.8613\n",
            "Epoch 88/100\n",
            "235/235 [==============================] - 0s 1ms/step - loss: 0.3416 - accuracy: 0.8611\n",
            "Epoch 89/100\n",
            "235/235 [==============================] - 0s 1ms/step - loss: 0.3418 - accuracy: 0.8609\n",
            "Epoch 90/100\n",
            "235/235 [==============================] - 0s 994us/step - loss: 0.3414 - accuracy: 0.8609\n",
            "Epoch 91/100\n",
            "235/235 [==============================] - 0s 989us/step - loss: 0.3416 - accuracy: 0.8615\n",
            "Epoch 92/100\n",
            "235/235 [==============================] - 0s 1ms/step - loss: 0.3416 - accuracy: 0.8629\n",
            "Epoch 93/100\n",
            "235/235 [==============================] - 0s 1ms/step - loss: 0.3415 - accuracy: 0.8608\n",
            "Epoch 94/100\n",
            "235/235 [==============================] - 0s 1ms/step - loss: 0.3413 - accuracy: 0.8625\n",
            "Epoch 95/100\n",
            "235/235 [==============================] - 0s 1ms/step - loss: 0.3411 - accuracy: 0.8619\n",
            "Epoch 96/100\n",
            "235/235 [==============================] - 0s 998us/step - loss: 0.3415 - accuracy: 0.8623\n",
            "Epoch 97/100\n",
            "235/235 [==============================] - 0s 1ms/step - loss: 0.3413 - accuracy: 0.8608\n",
            "Epoch 98/100\n",
            "235/235 [==============================] - 0s 1ms/step - loss: 0.3413 - accuracy: 0.8605\n",
            "Epoch 99/100\n",
            "235/235 [==============================] - 0s 1ms/step - loss: 0.3410 - accuracy: 0.8608\n",
            "Epoch 100/100\n",
            "235/235 [==============================] - 0s 1ms/step - loss: 0.3412 - accuracy: 0.8617\n"
          ]
        },
        {
          "output_type": "execute_result",
          "data": {
            "text/plain": [
              "<keras.callbacks.History at 0x7f172d47ced0>"
            ]
          },
          "metadata": {},
          "execution_count": 13
        }
      ]
    },
    {
      "cell_type": "code",
      "metadata": {
        "colab": {
          "base_uri": "https://localhost:8080/"
        },
        "id": "HqzLuGKGN_BS",
        "outputId": "908829a0-8f50-483c-a837-50e94213cd90"
      },
      "source": [
        "y_pred = ann.predict(X_test)\n",
        "y_pred = (y_pred>0.5)\n",
        "print(y_pred)"
      ],
      "id": "HqzLuGKGN_BS",
      "execution_count": 14,
      "outputs": [
        {
          "output_type": "stream",
          "name": "stdout",
          "text": [
            "[[False]\n",
            " [False]\n",
            " [False]\n",
            " ...\n",
            " [False]\n",
            " [False]\n",
            " [False]]\n"
          ]
        }
      ]
    },
    {
      "cell_type": "code",
      "metadata": {
        "colab": {
          "base_uri": "https://localhost:8080/"
        },
        "id": "ZA4Ubx_QN-9B",
        "outputId": "16680597-6257-4bb5-829f-7a1890f5109d"
      },
      "source": [
        "from sklearn.metrics import confusion_matrix, accuracy_score\n",
        "cm = confusion_matrix(y_test, y_pred)\n",
        "print(cm)\n",
        "accuracy = accuracy_score(y_test,y_pred)\n",
        "print(\"Accuracy = \",accuracy)"
      ],
      "id": "ZA4Ubx_QN-9B",
      "execution_count": 15,
      "outputs": [
        {
          "output_type": "stream",
          "name": "stdout",
          "text": [
            "[[1923   68]\n",
            " [ 279  230]]\n",
            "Accuracy =  0.8612\n"
          ]
        }
      ]
    }
  ]
}