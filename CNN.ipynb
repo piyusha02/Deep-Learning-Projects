{
  "nbformat": 4,
  "nbformat_minor": 0,
  "metadata": {
    "colab": {
      "name": "CNN_Assign.ipynb",
      "provenance": []
    },
    "kernelspec": {
      "name": "python3",
      "display_name": "Python 3"
    },
    "language_info": {
      "name": "python"
    },
    "accelerator": "GPU"
  },
  "cells": [
    {
      "cell_type": "markdown",
      "metadata": {
        "id": "wzeboGj0RMX5"
      },
      "source": [
        "**CNN Assignment-3**"
      ]
    },
    {
      "cell_type": "markdown",
      "metadata": {
        "id": "9_ISR5JVRqdC"
      },
      "source": [
        "**Topic:** Furniture Identification"
      ]
    },
    {
      "cell_type": "markdown",
      "metadata": {
        "id": "eFDvC3G9fM95"
      },
      "source": [
        "1. Import training and testing data"
      ]
    },
    {
      "cell_type": "code",
      "metadata": {
        "id": "cqiqZfT2MRvE"
      },
      "source": [
        "import tensorflow as tf\n",
        "from tensorflow import keras\n",
        "import numpy as np\n",
        "from keras.preprocessing.image import ImageDataGenerator"
      ],
      "execution_count": null,
      "outputs": []
    },
    {
      "cell_type": "markdown",
      "metadata": {
        "id": "aaRtE3XUSLV7"
      },
      "source": [
        "2. Pre-processing"
      ]
    },
    {
      "cell_type": "code",
      "metadata": {
        "id": "sF3sLOisMRxN",
        "colab": {
          "base_uri": "https://localhost:8080/"
        },
        "outputId": "fbc9c009-efcc-445f-96c6-5351b3e4367d"
      },
      "source": [
        "train_datagen = ImageDataGenerator(rescale=1./255, shear_range=0.2, zoom_range=0.2,horizontal_flip=True)\n",
        "training_set = train_datagen.flow_from_directory('/content/drive/MyDrive/Furniture_CNN/train',\n",
        "                                                 target_size = (64,64),\n",
        "                                                 batch_size = 15,\n",
        "                                                 class_mode = 'categorical')"
      ],
      "execution_count": null,
      "outputs": [
        {
          "output_type": "stream",
          "name": "stdout",
          "text": [
            "Found 4014 images belonging to 5 classes.\n"
          ]
        }
      ]
    },
    {
      "cell_type": "code",
      "metadata": {
        "id": "J887OncFQD54",
        "colab": {
          "base_uri": "https://localhost:8080/"
        },
        "outputId": "57f89912-1cae-4096-d6e7-70b2acb3ca3a"
      },
      "source": [
        "test_datagen = ImageDataGenerator(rescale=1./255)\n",
        "testing_set = test_datagen.flow_from_directory('/content/drive/MyDrive/Furniture_CNN/test',\n",
        "                                               target_size = (64,64),\n",
        "                                               batch_size = 15,\n",
        "                                               class_mode = 'categorical')"
      ],
      "execution_count": null,
      "outputs": [
        {
          "output_type": "stream",
          "name": "stdout",
          "text": [
            "Found 423 images belonging to 5 classes.\n"
          ]
        }
      ]
    },
    {
      "cell_type": "markdown",
      "metadata": {
        "id": "qDWPtzmdfYzA"
      },
      "source": [
        "4. Build CNN Model"
      ]
    },
    {
      "cell_type": "markdown",
      "metadata": {
        "id": "qHYM80rEfqe2"
      },
      "source": [
        "Initialize CNN"
      ]
    },
    {
      "cell_type": "code",
      "metadata": {
        "id": "hIJ78guBMR02"
      },
      "source": [
        "cnn = tf.keras.models.Sequential()"
      ],
      "execution_count": null,
      "outputs": []
    },
    {
      "cell_type": "markdown",
      "metadata": {
        "id": "PnLHW9Fof1bS"
      },
      "source": [
        "first convolution layer"
      ]
    },
    {
      "cell_type": "code",
      "metadata": {
        "id": "JLztJwTwMR3u"
      },
      "source": [
        "cnn.add(tf.keras.layers.Conv2D(filters=32, kernel_size=3, activation='relu', input_shape = (64,64,3)))\n",
        "cnn.add(tf.keras.layers.MaxPool2D(pool_size=2, strides=2))"
      ],
      "execution_count": null,
      "outputs": []
    },
    {
      "cell_type": "markdown",
      "metadata": {
        "id": "L4QbKMLYjNJW"
      },
      "source": [
        "second convolution layer"
      ]
    },
    {
      "cell_type": "code",
      "metadata": {
        "id": "07XsFXv9jQtu"
      },
      "source": [
        "cnn.add(tf.keras.layers.Conv2D(filters=32, kernel_size=3, activation='relu'))\n",
        "cnn.add(tf.keras.layers.MaxPool2D(pool_size=3, strides=2))"
      ],
      "execution_count": null,
      "outputs": []
    },
    {
      "cell_type": "code",
      "metadata": {
        "id": "xV6bJOCHSetm"
      },
      "source": [
        "cnn.add(tf.keras.layers.Conv2D(filters=32, kernel_size=3, activation='relu'))\n",
        "cnn.add(tf.keras.layers.MaxPool2D(pool_size=2, strides=2))"
      ],
      "execution_count": null,
      "outputs": []
    },
    {
      "cell_type": "code",
      "metadata": {
        "id": "8jLGAQOoSjyp"
      },
      "source": [
        "cnn.add(tf.keras.layers.Conv2D(filters=32, kernel_size=3, activation='relu'))\n",
        "cnn.add(tf.keras.layers.MaxPool2D(pool_size=2, strides=2))"
      ],
      "execution_count": null,
      "outputs": []
    },
    {
      "cell_type": "markdown",
      "metadata": {
        "id": "dYPYv3PvjqUF"
      },
      "source": [
        "flatenning layer"
      ]
    },
    {
      "cell_type": "code",
      "metadata": {
        "id": "tdUdx23uMR-g"
      },
      "source": [
        "cnn.add(tf.keras.layers.Flatten())"
      ],
      "execution_count": null,
      "outputs": []
    },
    {
      "cell_type": "markdown",
      "metadata": {
        "id": "rgLF0BTqj8zm"
      },
      "source": [
        "Full connection neural network"
      ]
    },
    {
      "cell_type": "code",
      "metadata": {
        "id": "jNdpfpR7MSCI"
      },
      "source": [
        "cnn.add(tf.keras.layers.Dense(units=128, activation='relu'))"
      ],
      "execution_count": null,
      "outputs": []
    },
    {
      "cell_type": "markdown",
      "metadata": {
        "id": "Ct46tYFzkRV1"
      },
      "source": [
        "Output layer"
      ]
    },
    {
      "cell_type": "code",
      "metadata": {
        "id": "NbiJ0MRuMSDV"
      },
      "source": [
        "cnn.add(tf.keras.layers.Dense(units=5, activation ='softmax'))"
      ],
      "execution_count": null,
      "outputs": []
    },
    {
      "cell_type": "code",
      "metadata": {
        "id": "qQPdGc96MSGe"
      },
      "source": [
        "cnn.compile(optimizer='adam', loss='categorical_crossentropy', metrics =['accuracy'])"
      ],
      "execution_count": null,
      "outputs": []
    },
    {
      "cell_type": "markdown",
      "metadata": {
        "id": "mxbJ_7jCoUCe"
      },
      "source": [
        "Validation"
      ]
    },
    {
      "cell_type": "code",
      "metadata": {
        "id": "vj5yXnHuMSH3",
        "colab": {
          "base_uri": "https://localhost:8080/"
        },
        "outputId": "d73427f2-e25e-4c89-f63c-dbc6dff3315a"
      },
      "source": [
        "cnn.fit(x=training_set, validation_data=testing_set, epochs=5)\n",
        "#cnn.fit(x=training_set, validation_data=test_set, epochs=3) #you can give 25"
      ],
      "execution_count": null,
      "outputs": [
        {
          "output_type": "stream",
          "name": "stdout",
          "text": [
            "Epoch 1/5\n",
            "268/268 [==============================] - 26s 93ms/step - loss: 0.9302 - accuracy: 0.6440 - val_loss: 0.6918 - val_accuracy: 0.7589\n",
            "Epoch 2/5\n",
            "268/268 [==============================] - 25s 92ms/step - loss: 0.6096 - accuracy: 0.7890 - val_loss: 0.5583 - val_accuracy: 0.8038\n",
            "Epoch 3/5\n",
            "268/268 [==============================] - 25s 92ms/step - loss: 0.5194 - accuracy: 0.8186 - val_loss: 0.4561 - val_accuracy: 0.8582\n",
            "Epoch 4/5\n",
            "268/268 [==============================] - 24s 91ms/step - loss: 0.4727 - accuracy: 0.8346 - val_loss: 0.4550 - val_accuracy: 0.8251\n",
            "Epoch 5/5\n",
            "268/268 [==============================] - 25s 93ms/step - loss: 0.4260 - accuracy: 0.8503 - val_loss: 0.3591 - val_accuracy: 0.8652\n"
          ]
        },
        {
          "output_type": "execute_result",
          "data": {
            "text/plain": [
              "<keras.callbacks.History at 0x7fdfd0cc9ed0>"
            ]
          },
          "metadata": {},
          "execution_count": 117
        }
      ]
    },
    {
      "cell_type": "code",
      "metadata": {
        "colab": {
          "base_uri": "https://localhost:8080/",
          "height": 235
        },
        "id": "BOW9xQRT_e5v",
        "outputId": "25fc012a-c330-4039-97e6-af77edb35a7d"
      },
      "source": [
        "(eval_loss, eval_accuracy) = cnn.evaluate(\n",
        "    validation_data, validation_labels, batch_size=batch_size,verbose=1)\n",
        "\n",
        "print(\"[INFO] accuracy: {:.2f}%\".format(eval_accuracy * 100)) \n",
        "print(\"[INFO] Loss: {}\".format(eval_loss)) \n",
        "end= datetime.datetime.now()\n",
        "elapsed= end-start\n",
        "print ('Time: ', elapsed)"
      ],
      "execution_count": null,
      "outputs": [
        {
          "output_type": "error",
          "ename": "NameError",
          "evalue": "ignored",
          "traceback": [
            "\u001b[0;31m---------------------------------------------------------------------------\u001b[0m",
            "\u001b[0;31mNameError\u001b[0m                                 Traceback (most recent call last)",
            "\u001b[0;32m<ipython-input-22-3f4e8769b5ea>\u001b[0m in \u001b[0;36m<module>\u001b[0;34m()\u001b[0m\n\u001b[1;32m      1\u001b[0m (eval_loss, eval_accuracy) = cnn.evaluate(\n\u001b[0;32m----> 2\u001b[0;31m     validation_data, validation_labels, batch_size=batch_size,verbose=1)\n\u001b[0m\u001b[1;32m      3\u001b[0m \u001b[0;34m\u001b[0m\u001b[0m\n\u001b[1;32m      4\u001b[0m \u001b[0mprint\u001b[0m\u001b[0;34m(\u001b[0m\u001b[0;34m\"[INFO] accuracy: {:.2f}%\"\u001b[0m\u001b[0;34m.\u001b[0m\u001b[0mformat\u001b[0m\u001b[0;34m(\u001b[0m\u001b[0meval_accuracy\u001b[0m \u001b[0;34m*\u001b[0m \u001b[0;36m100\u001b[0m\u001b[0;34m)\u001b[0m\u001b[0;34m)\u001b[0m\u001b[0;34m\u001b[0m\u001b[0;34m\u001b[0m\u001b[0m\n\u001b[1;32m      5\u001b[0m \u001b[0mprint\u001b[0m\u001b[0;34m(\u001b[0m\u001b[0;34m\"[INFO] Loss: {}\"\u001b[0m\u001b[0;34m.\u001b[0m\u001b[0mformat\u001b[0m\u001b[0;34m(\u001b[0m\u001b[0meval_loss\u001b[0m\u001b[0;34m)\u001b[0m\u001b[0;34m)\u001b[0m\u001b[0;34m\u001b[0m\u001b[0;34m\u001b[0m\u001b[0m\n",
            "\u001b[0;31mNameError\u001b[0m: name 'validation_data' is not defined"
          ]
        }
      ]
    },
    {
      "cell_type": "code",
      "metadata": {
        "colab": {
          "base_uri": "https://localhost:8080/",
          "height": 235
        },
        "id": "iXZkR8jT-Wn2",
        "outputId": "932f2a0a-7612-440b-9a3e-28177cbd93d0"
      },
      "source": [
        "#Graphing our training and validation\n",
        "acc = history.history['acc']\n",
        "val_acc = history.history['val_acc']\n",
        "loss = history.history['loss']\n",
        "val_loss = history.history['val_loss']\n",
        "epochs = range(len(acc))\n",
        "plt.plot(epochs, acc, 'r', label='Training acc')\n",
        "plt.plot(epochs, val_acc, 'b', label='Validation acc')\n",
        "plt.title('Training and validation accuracy')\n",
        "plt.ylabel('accuracy') \n",
        "plt.xlabel('epoch')\n",
        "plt.legend()\n",
        "plt.figure()\n",
        "plt.plot(epochs, loss, 'r', label='Training loss')\n",
        "plt.plot(epochs, val_loss, 'b', label='Validation loss')\n",
        "plt.title('Training and validation loss')\n",
        "plt.ylabel('loss')\n",
        "plt.xlabel('epoch')\n",
        "plt.legend()\n",
        "plt.show()"
      ],
      "execution_count": null,
      "outputs": [
        {
          "output_type": "error",
          "ename": "NameError",
          "evalue": "ignored",
          "traceback": [
            "\u001b[0;31m---------------------------------------------------------------------------\u001b[0m",
            "\u001b[0;31mNameError\u001b[0m                                 Traceback (most recent call last)",
            "\u001b[0;32m<ipython-input-20-9c89bff880df>\u001b[0m in \u001b[0;36m<module>\u001b[0;34m()\u001b[0m\n\u001b[1;32m      1\u001b[0m \u001b[0;31m#Graphing our training and validation\u001b[0m\u001b[0;34m\u001b[0m\u001b[0;34m\u001b[0m\u001b[0;34m\u001b[0m\u001b[0m\n\u001b[0;32m----> 2\u001b[0;31m \u001b[0macc\u001b[0m \u001b[0;34m=\u001b[0m \u001b[0mhistory\u001b[0m\u001b[0;34m.\u001b[0m\u001b[0mhistory\u001b[0m\u001b[0;34m[\u001b[0m\u001b[0;34m'acc'\u001b[0m\u001b[0;34m]\u001b[0m\u001b[0;34m\u001b[0m\u001b[0;34m\u001b[0m\u001b[0m\n\u001b[0m\u001b[1;32m      3\u001b[0m \u001b[0mval_acc\u001b[0m \u001b[0;34m=\u001b[0m \u001b[0mhistory\u001b[0m\u001b[0;34m.\u001b[0m\u001b[0mhistory\u001b[0m\u001b[0;34m[\u001b[0m\u001b[0;34m'val_acc'\u001b[0m\u001b[0;34m]\u001b[0m\u001b[0;34m\u001b[0m\u001b[0;34m\u001b[0m\u001b[0m\n\u001b[1;32m      4\u001b[0m \u001b[0mloss\u001b[0m \u001b[0;34m=\u001b[0m \u001b[0mhistory\u001b[0m\u001b[0;34m.\u001b[0m\u001b[0mhistory\u001b[0m\u001b[0;34m[\u001b[0m\u001b[0;34m'loss'\u001b[0m\u001b[0;34m]\u001b[0m\u001b[0;34m\u001b[0m\u001b[0;34m\u001b[0m\u001b[0m\n\u001b[1;32m      5\u001b[0m \u001b[0mval_loss\u001b[0m \u001b[0;34m=\u001b[0m \u001b[0mhistory\u001b[0m\u001b[0;34m.\u001b[0m\u001b[0mhistory\u001b[0m\u001b[0;34m[\u001b[0m\u001b[0;34m'val_loss'\u001b[0m\u001b[0;34m]\u001b[0m\u001b[0;34m\u001b[0m\u001b[0;34m\u001b[0m\u001b[0m\n",
            "\u001b[0;31mNameError\u001b[0m: name 'history' is not defined"
          ]
        }
      ]
    },
    {
      "cell_type": "code",
      "metadata": {
        "colab": {
          "base_uri": "https://localhost:8080/"
        },
        "id": "EeH-ytbvcV9Y",
        "outputId": "96e9d784-807c-4fcb-8cbc-0c2739307453"
      },
      "source": [
        "import numpy as np\n",
        "from keras.preprocessing import image\n",
        "test_image = image.load_img('/content/drive/MyDrive/Furniture_CNN/unseen/swivelchair1.jpg', target_size=(64,64))\n",
        "test_image = image.img_to_array(test_image)\n",
        "test_image = np.expand_dims(test_image, axis=0)\n",
        "training_set.class_indices\n",
        "result = cnn.predict(test_image)\n",
        "result = list(result[0])\n",
        "label_dict = {0:'Bed', 1:'Chair', 2:'Sofa', 3:'SwivelChair', 4:'Table'}\n",
        "img_index = result.index(max(result))\n",
        "print(label_dict[img_index])"
      ],
      "execution_count": null,
      "outputs": [
        {
          "output_type": "stream",
          "name": "stdout",
          "text": [
            "SwivelChair\n"
          ]
        }
      ]
    },
    {
      "cell_type": "code",
      "metadata": {
        "colab": {
          "base_uri": "https://localhost:8080/",
          "height": 517
        },
        "id": "Es_Nl3B9MkAp",
        "outputId": "44b652d2-fa84-4721-e9cf-0da2a4c25bf0"
      },
      "source": [
        "disp_image = image.load_img('/content/drive/MyDrive/Furniture_CNN/unseen/sofa1.jpg')\n",
        "from IPython.display import Image,display\n",
        "display(Image('/content/drive/MyDrive/Furniture_CNN/unseen/sofa1.jpg'))"
      ],
      "execution_count": null,
      "outputs": [
        {
          "output_type": "display_data",
          "data": {
            "image/jpeg": "[encoded data removed]",
            "text/plain": [
              "<IPython.core.display.Image object>"
            ]
          },
          "metadata": {}
        }
      ]
    }
  ]
}